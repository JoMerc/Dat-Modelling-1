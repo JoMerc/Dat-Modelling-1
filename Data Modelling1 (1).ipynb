{
 "cells": [
  {
   "cell_type": "markdown",
   "metadata": {},
   "source": [
    "##### Data Modelling\n",
    "Understanding, preparing, and modelling the future financial performance of a company (as measured by its revenue growth) based on its past financial performance. "
   ]
  },
  {
   "cell_type": "code",
   "execution_count": 2,
   "metadata": {},
   "outputs": [],
   "source": [
    "import numpy as np\n",
    "import pandas as pd\n",
    "from sklearn.model_selection import train_test_split\n",
    "from sklearn.metrics import classification_report\n",
    "\n",
    "from pprint import PrettyPrinter\n",
    "from sklearn.svm import SVC\n",
    "from sklearn.neighbors import KNeighborsClassifier\n",
    "from sklearn.naive_bayes import GaussianNB\n",
    "from sklearn.ensemble import RandomForestClassifier\n",
    "from sklearn.ensemble import GradientBoostingClassifier\n",
    "from sklearn.ensemble import VotingClassifier"
   ]
  },
  {
   "cell_type": "code",
   "execution_count": 2,
   "metadata": {},
   "outputs": [],
   "source": [
    "pp = PrettyPrinter(indent=4)"
   ]
  },
  {
   "cell_type": "code",
   "execution_count": 3,
   "metadata": {},
   "outputs": [],
   "source": [
    "combined = pd.read_csv('combined_data.csv', index_col=0)\n",
    "combined = combined.fillna(0)\n",
    "\n",
    "combined['GICS Sector'] = combined['GICS Sector'].astype('category')"
   ]
  },
  {
   "cell_type": "markdown",
   "metadata": {},
   "source": [
    "#### Data Investigation and Preparation"
   ]
  },
  {
   "cell_type": "markdown",
   "metadata": {},
   "source": [
    "First we investigate our target variable, the average revenue growth, to identify challenges in the data. We observe that the dataset has a large standard variation and a high tail (3rd quartile is 7.18 whilst the maximum value is 1243). This indicates there are some outliers present in the dataset."
   ]
  },
  {
   "cell_type": "code",
   "execution_count": 4,
   "metadata": {},
   "outputs": [
    {
     "data": {
      "text/plain": [
       "count     448.000000\n",
       "mean        7.334202\n",
       "std        59.373187\n",
       "min       -15.286401\n",
       "25%        -0.577717\n",
       "50%         2.664451\n",
       "75%         7.188243\n",
       "max      1243.690552\n",
       "Name: Avg Rev Growth, dtype: float64"
      ]
     },
     "execution_count": 4,
     "metadata": {},
     "output_type": "execute_result"
    }
   ],
   "source": [
    "combined['Avg Rev Growth'].describe()"
   ]
  },
  {
   "cell_type": "markdown",
   "metadata": {},
   "source": [
    "To identify outliers we sort revenue growth from lowest to highest and see that the stock 'COTY' is a clear outlier from other stocks. This is also seen in the graph also displayed. To improve the performance of the model we remove the outlier to increase performance."
   ]
  },
  {
   "cell_type": "code",
   "execution_count": 5,
   "metadata": {},
   "outputs": [
    {
     "data": {
      "text/plain": [
       "Ticker Symbol\n",
       "APA      -15.286401\n",
       "HPQ      -14.232589\n",
       "BHI      -13.999061\n",
       "MRO      -13.463146\n",
       "HP       -13.013451\n",
       "           ...     \n",
       "AVGO      47.010551\n",
       "GILD      59.103793\n",
       "FB        62.773120\n",
       "CHTR      63.911711\n",
       "COTY    1243.690552\n",
       "Name: Avg Rev Growth, Length: 448, dtype: float64"
      ]
     },
     "execution_count": 5,
     "metadata": {},
     "output_type": "execute_result"
    }
   ],
   "source": [
    "combined['Avg Rev Growth'].sort_values()"
   ]
  },
  {
   "cell_type": "code",
   "execution_count": 6,
   "metadata": {
    "scrolled": true
   },
   "outputs": [
    {
     "data": {
      "text/plain": [
       "Text(0, 0.5, 'Average Revenue Growth')"
      ]
     },
     "execution_count": 6,
     "metadata": {},
     "output_type": "execute_result"
    },
    {
     "data": {
      "image/png": "[encoded data removed]",
      "text/plain": [
       "<Figure size 432x288 with 1 Axes>"
      ]
     },
     "metadata": {
      "needs_background": "light"
     },
     "output_type": "display_data"
    }
   ],
   "source": [
    "ax = combined['Avg Rev Growth'].plot()\n",
    "ax.set_ylabel(\"Average Revenue Growth\")"
   ]
  },
  {
   "cell_type": "code",
   "execution_count": 7,
   "metadata": {},
   "outputs": [],
   "source": [
    "# Remove outlier COTY\n",
    "reduced = combined.drop(['COTY'])"
   ]
  },
  {
   "cell_type": "markdown",
   "metadata": {},
   "source": [
    "We see that we've decreased our standard deviation from 59 to 9 — or a reduction of 85% "
   ]
  },
  {
   "cell_type": "code",
   "execution_count": 8,
   "metadata": {},
   "outputs": [
    {
     "data": {
      "text/plain": [
       "count    447.000000\n",
       "mean       4.568304\n",
       "std        9.905012\n",
       "min      -15.286401\n",
       "25%       -0.590839\n",
       "50%        2.656497\n",
       "75%        7.178388\n",
       "max       63.911711\n",
       "Name: Avg Rev Growth, dtype: float64"
      ]
     },
     "execution_count": 8,
     "metadata": {},
     "output_type": "execute_result"
    }
   ],
   "source": [
    "reduced['Avg Rev Growth'].describe()"
   ]
  },
  {
   "cell_type": "markdown",
   "metadata": {},
   "source": [
    "Convert share price growth feature into a binary target variable for classification\n"
   ]
  },
  {
   "cell_type": "code",
   "execution_count": 9,
   "metadata": {},
   "outputs": [],
   "source": [
    "\n",
    "threshold = 0.7\n",
    "reduced['revGrowthAboveSeven'] = reduced['Avg Rev Growth'].apply(lambda x: 1 if x>threshold else 0)"
   ]
  },
  {
   "cell_type": "code",
   "execution_count": 10,
   "metadata": {},
   "outputs": [],
   "source": [
    "target = reduced['revGrowthAboveSeven']\n",
    "features = reduced.drop(columns=['Avg Rev Growth', 'revGrowthAboveSeven', 'Security', 'GICS Sector'])\n"
   ]
  },
  {
   "cell_type": "code",
   "execution_count": 11,
   "metadata": {},
   "outputs": [],
   "source": [
    "X_train, X_test, y_train, y_test = train_test_split(\n",
    "    features, target, test_size=0.3, random_state=0\n",
    ")"
   ]
  },
  {
   "cell_type": "markdown",
   "metadata": {},
   "source": [
    "#### Random Forest"
   ]
  },
  {
   "cell_type": "markdown",
   "metadata": {},
   "source": [
    "Implement some basic models to predict revenue growth. "
   ]
  },
  {
   "cell_type": "markdown",
   "metadata": {},
   "source": [
    "Initialise random forest classifier and train model"
   ]
  },
  {
   "cell_type": "code",
   "execution_count": 12,
   "metadata": {},
   "outputs": [
    {
     "data": {
      "text/plain": [
       "1.0"
      ]
     },
     "execution_count": 12,
     "metadata": {},
     "output_type": "execute_result"
    }
   ],
   "source": [
    "randomForestClassifier = RandomForestClassifier(n_estimators=200, n_jobs=-1, random_state=0)\n",
    "randomForestClassifier.fit(X_train, y_train)\n",
    "randomForestClassifier.score(X_train, y_train)"
   ]
  },
  {
   "cell_type": "markdown",
   "metadata": {},
   "source": [
    "Calculate accuracy of model using testing data"
   ]
  },
  {
   "cell_type": "code",
   "execution_count": 13,
   "metadata": {},
   "outputs": [
    {
     "data": {
      "text/plain": [
       "0.6888888888888889"
      ]
     },
     "execution_count": 13,
     "metadata": {},
     "output_type": "execute_result"
    }
   ],
   "source": [
    "randomForestClassifier.score(X_test, y_test)"
   ]
  },
  {
   "cell_type": "code",
   "execution_count": 14,
   "metadata": {},
   "outputs": [
    {
     "name": "stdout",
     "output_type": "stream",
     "text": [
      "              precision    recall  f1-score   support\n",
      "\n",
      "           0       0.62      0.40      0.49        50\n",
      "           1       0.71      0.86      0.78        85\n",
      "\n",
      "    accuracy                           0.69       135\n",
      "   macro avg       0.67      0.63      0.63       135\n",
      "weighted avg       0.68      0.69      0.67       135\n",
      "\n"
     ]
    }
   ],
   "source": [
    "print(classification_report(y_test, randomForestClassifier.predict(X_test)))"
   ]
  },
  {
   "cell_type": "markdown",
   "metadata": {},
   "source": [
    "Feature importance from model and display top 10 features. This will demonstrate which features in our data set are driving our models performance most heavily."
   ]
  },
  {
   "cell_type": "code",
   "execution_count": 15,
   "metadata": {},
   "outputs": [
    {
     "name": "stdout",
     "output_type": "stream",
     "text": [
      "[   'Liabilities',\n",
      "    'Non-Recurring Items',\n",
      "    'Accounts Receivable',\n",
      "    'Common Stocks',\n",
      "    'Retained Earnings',\n",
      "    'Net Cash Flows-Financing',\n",
      "    'Other Investing Activities',\n",
      "    'Other Equity',\n",
      "    'Changes in Inventories',\n",
      "    'Estimated Shares Outstanding']\n",
      "[   0.04349394113042381,\n",
      "    0.03727946501207849,\n",
      "    0.034258370229562914,\n",
      "    0.02853588839847605,\n",
      "    0.02714328673519921,\n",
      "    0.025938095968746938,\n",
      "    0.025565326210729076,\n",
      "    0.020935844159739307,\n",
      "    0.01989589195803917,\n",
      "    0.0196761865505012]\n"
     ]
    }
   ],
   "source": [
    "labels = features.columns.values\n",
    "weights = randomForestClassifier.feature_importances_\n",
    "top_features = sorted(list(zip(labels,weights)), reverse=True, key = lambda x: abs(x[1]))[0:10]\n",
    "top_labels = [x[0] for x in top_features]\n",
    "top_weights = [x[1] for x in top_features]\n",
    "pp.pprint(top_labels)\n",
    "pp.pprint(top_weights)"
   ]
  },
  {
   "cell_type": "markdown",
   "metadata": {},
   "source": [
    "## Gradient boosting"
   ]
  },
  {
   "cell_type": "code",
   "execution_count": 16,
   "metadata": {},
   "outputs": [
    {
     "data": {
      "text/plain": [
       "1.0"
      ]
     },
     "execution_count": 16,
     "metadata": {},
     "output_type": "execute_result"
    }
   ],
   "source": [
    "gradientBoostingClassifier = GradientBoostingClassifier(n_estimators=200, random_state=0)\n",
    "gradientBoostingClassifier.fit(X_train, y_train)\n",
    "gradientBoostingClassifier.score(X_train, y_train)"
   ]
  },
  {
   "cell_type": "code",
   "execution_count": 17,
   "metadata": {},
   "outputs": [
    {
     "data": {
      "text/plain": [
       "0.7185185185185186"
      ]
     },
     "execution_count": 17,
     "metadata": {},
     "output_type": "execute_result"
    }
   ],
   "source": [
    "gradientBoostingClassifier.score(X_test, y_test)"
   ]
  },
  {
   "cell_type": "code",
   "execution_count": 18,
   "metadata": {},
   "outputs": [
    {
     "name": "stdout",
     "output_type": "stream",
     "text": [
      "              precision    recall  f1-score   support\n",
      "\n",
      "           0       0.68      0.46      0.55        50\n",
      "           1       0.73      0.87      0.80        85\n",
      "\n",
      "    accuracy                           0.72       135\n",
      "   macro avg       0.70      0.67      0.67       135\n",
      "weighted avg       0.71      0.72      0.70       135\n",
      "\n"
     ]
    }
   ],
   "source": [
    "print(classification_report(y_test, gradientBoostingClassifier.predict(X_test)))"
   ]
  },
  {
   "cell_type": "markdown",
   "metadata": {},
   "source": [
    "#### Include GICS Sector\n",
    "\n",
    "Added an additional data point to associate each comapny with their GICS Sector. Unlike the rest of the data, this data is presented as text. Both random forests and gradient boosting allow converting categorical data into numbers so that it can be considered by the model."
   ]
  },
  {
   "cell_type": "code",
   "execution_count": 19,
   "metadata": {},
   "outputs": [
    {
     "data": {
      "text/plain": [
       "GICS Sector\n",
       "Consumer Discretionary         79\n",
       "Consumer Staples               32\n",
       "Energy                         31\n",
       "Financials                     53\n",
       "Health Care                    49\n",
       "Industrials                    62\n",
       "Information Technology         61\n",
       "Materials                      24\n",
       "Real Estate                    27\n",
       "Telecommunications Services     5\n",
       "Utilities                      24\n",
       "Name: Accounts Payable, dtype: int64"
      ]
     },
     "execution_count": 19,
     "metadata": {},
     "output_type": "execute_result"
    }
   ],
   "source": [
    "# We can see that there are only 11 industries and all except Telecommunications Services have at least 20 companies.\n",
    "\n",
    "reduced.groupby('GICS Sector').count()['Accounts Payable']"
   ]
  },
  {
   "cell_type": "markdown",
   "metadata": {},
   "source": [
    "Analysing the average growth per GICS Sector we see that comsumer staples outperforms other GICS Sectors."
   ]
  },
  {
   "cell_type": "code",
   "execution_count": 2,
   "metadata": {},
   "outputs": [
    {
     "ename": "NameError",
     "evalue": "name 'reduced' is not defined",
     "output_type": "error",
     "traceback": [
      "\u001b[1;31m---------------------------------------------------------------------------\u001b[0m",
      "\u001b[1;31mNameError\u001b[0m                                 Traceback (most recent call last)",
      "\u001b[1;32m<ipython-input-2-183c3d03456b>\u001b[0m in \u001b[0;36m<module>\u001b[1;34m\u001b[0m\n\u001b[1;32m----> 1\u001b[1;33m \u001b[0mindustryGrouped\u001b[0m \u001b[1;33m=\u001b[0m \u001b[0mreduced\u001b[0m\u001b[1;33m.\u001b[0m\u001b[0mgroupby\u001b[0m\u001b[1;33m(\u001b[0m\u001b[0mby\u001b[0m\u001b[1;33m=\u001b[0m\u001b[1;33m[\u001b[0m\u001b[1;34m\"GICS Sector\"\u001b[0m\u001b[1;33m]\u001b[0m\u001b[1;33m)\u001b[0m\u001b[1;33m.\u001b[0m\u001b[0mmean\u001b[0m\u001b[1;33m(\u001b[0m\u001b[1;33m)\u001b[0m\u001b[1;33m\u001b[0m\u001b[1;33m\u001b[0m\u001b[0m\n\u001b[0m\u001b[0;32m      2\u001b[0m \u001b[0mindustryGrouped\u001b[0m\u001b[1;33m\u001b[0m\u001b[1;33m\u001b[0m\u001b[0m\n\u001b[0;32m      3\u001b[0m \u001b[0mindustryGrouped\u001b[0m\u001b[1;33m.\u001b[0m\u001b[0mplot\u001b[0m\u001b[1;33m.\u001b[0m\u001b[0mbar\u001b[0m\u001b[1;33m(\u001b[0m\u001b[0my\u001b[0m\u001b[1;33m=\u001b[0m\u001b[1;34m'Avg Rev Growth'\u001b[0m\u001b[1;33m)\u001b[0m\u001b[1;33m\u001b[0m\u001b[1;33m\u001b[0m\u001b[0m\n",
      "\u001b[1;31mNameError\u001b[0m: name 'reduced' is not defined"
     ]
    }
   ],
   "source": [
    "industryGrouped = reduced.groupby(by=[\"GICS Sector\"]).mean()\n",
    "industryGrouped\n",
    "industryGrouped.plot.bar(y='Avg Rev Growth')"
   ]
  },
  {
   "cell_type": "markdown",
   "metadata": {},
   "source": [
    "Represent each industry as a number so that it can be used by our models as a data point."
   ]
  },
  {
   "cell_type": "code",
   "execution_count": 21,
   "metadata": {},
   "outputs": [],
   "source": [
    "features['Industry'] = pd.factorize(reduced['GICS Sector'])[0]\n"
   ]
  },
  {
   "cell_type": "code",
   "execution_count": 22,
   "metadata": {},
   "outputs": [],
   "source": [
    "X_train, X_test, y_train, y_test = train_test_split(\n",
    "    features, target, test_size=0.3, random_state=0\n",
    ")"
   ]
  },
  {
   "cell_type": "markdown",
   "metadata": {},
   "source": [
    "We repeat the experiment and compare the results now that we have included GICS Sector as a data point. We note that the random forest model has increased its weighted F1 score by three however the F1 score for boosting has remained constant. An increase of three to 71 is only a modest improvement and there are still opportunities to investigate increasing it further. To see how well you understand random forests and gradient boosting, can you think of any reasons why the increase in performance was greater for random forests than for gradient boosting when we introduced 'GICS Sector'?"
   ]
  },
  {
   "cell_type": "markdown",
   "metadata": {},
   "source": [
    "Random Forest"
   ]
  },
  {
   "cell_type": "code",
   "execution_count": 23,
   "metadata": {},
   "outputs": [
    {
     "data": {
      "text/plain": [
       "1.0"
      ]
     },
     "execution_count": 23,
     "metadata": {},
     "output_type": "execute_result"
    }
   ],
   "source": [
    "randomForestClassifier = RandomForestClassifier(n_estimators=200, n_jobs=-1, random_state=0)\n",
    "randomForestClassifier.fit(X_train, y_train)\n",
    "randomForestClassifier.score(X_train, y_train)\n"
   ]
  },
  {
   "cell_type": "code",
   "execution_count": 24,
   "metadata": {},
   "outputs": [
    {
     "name": "stdout",
     "output_type": "stream",
     "text": [
      "              precision    recall  f1-score   support\n",
      "\n",
      "           0       0.67      0.40      0.50        50\n",
      "           1       0.71      0.88      0.79        85\n",
      "\n",
      "    accuracy                           0.70       135\n",
      "   macro avg       0.69      0.64      0.64       135\n",
      "weighted avg       0.70      0.70      0.68       135\n",
      "\n"
     ]
    }
   ],
   "source": [
    "gradientBoostingClassifier = GradientBoostingClassifier(n_estimators=200, random_state=0)\n",
    "gradientBoostingClassifier.fit(X_train, y_train)\n",
    "gradientBoostingClassifier.score(X_train, y_train)\n",
    "gradientBoostingClassifier.score(X_test, y_test)\n",
    "print(classification_report(y_test, randomForestClassifier.predict(X_test)))"
   ]
  },
  {
   "cell_type": "markdown",
   "metadata": {},
   "source": [
    "Gradient Boosting"
   ]
  },
  {
   "cell_type": "code",
   "execution_count": 25,
   "metadata": {},
   "outputs": [
    {
     "name": "stdout",
     "output_type": "stream",
     "text": [
      "              precision    recall  f1-score   support\n",
      "\n",
      "           0       0.74      0.46      0.57        50\n",
      "           1       0.74      0.91      0.81        85\n",
      "\n",
      "    accuracy                           0.74       135\n",
      "   macro avg       0.74      0.68      0.69       135\n",
      "weighted avg       0.74      0.74      0.72       135\n",
      "\n"
     ]
    }
   ],
   "source": [
    "gradientBoostingClassifier = GradientBoostingClassifier(n_estimators=200, random_state=0)\n",
    "gradientBoostingClassifier.fit(X_train, y_train)\n",
    "gradientBoostingClassifier.score(X_train, y_train)\n",
    "print(classification_report(y_test, gradientBoostingClassifier.predict(X_test)))"
   ]
  }
 ],
 "metadata": {
  "kernelspec": {
   "display_name": "Python 3",
   "language": "python",
   "name": "python3"
  },
  "language_info": {
   "codemirror_mode": {
    "name": "ipython",
    "version": 3
   },
   "file_extension": ".py",
   "mimetype": "text/x-python",
   "name": "python",
   "nbconvert_exporter": "python",
   "pygments_lexer": "ipython3",
   "version": "3.7.6"
  }
 },
 "nbformat": 4,
 "nbformat_minor": 5
}
